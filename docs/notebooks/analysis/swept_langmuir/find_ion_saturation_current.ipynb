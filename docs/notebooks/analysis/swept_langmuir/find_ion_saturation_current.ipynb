{
 "cells": [
  {
   "cell_type": "markdown",
   "metadata": {},
   "source": [
    "# Swept Langmuir Analysis: Ion-Saturation Current"
   ]
  },
  {
   "cell_type": "code",
   "execution_count": null,
   "metadata": {},
   "outputs": [],
   "source": [
    "%matplotlib inline\n",
    "\n",
    "import matplotlib.pyplot as plt\n",
    "import numpy as np\n",
    "import pprint\n",
    "\n",
    "from pathlib import Path\n",
    "\n",
    "from plasmapy.analysis import swept_langmuir as sla\n",
    "\n",
    "plt.rcParams['figure.figsize'] = [10.5, 0.56 * 10.5]"
   ]
  },
  {
   "cell_type": "markdown",
   "metadata": {},
   "source": [
    "## Contents:\n",
    "\n",
    "1. [How does **find_floating_potential()** work?](#How-does-find_floating_potential()-work?)\n",
    "    1. [Notes about usage](#Notes-about-usage)\n",
    "    1. [Knobs to turn](#Knobs-to-turn)\n",
    "1. [Calculate the Floating Potential](#Calculate-the-Floating-Potential)\n",
    "    1. [Interpreting results](#Interpreting-results)\n",
    "    1. [Plotting results](#Plotting-results)"
   ]
  },
  {
   "cell_type": "markdown",
   "metadata": {},
   "source": [
    "## How does `find_floating_potential()` work?\n",
    "\n",
    "1. The passed current array is scanned for points that equal zero and point-pairs that straddle $I = 0$.  This forms an collection of \"crossing-points.\"\n",
    "1. The crossing-points are then grouped into \"crossing-islands\" based on the `threshold` keyword.\n",
    "    - A new island is formed when a successive crossing-point is more (index) steps away from the previous corssing-point than defined by `threshold`.  For example, if `threshld=4` then an new island is formed if a crossing-point candidate is more than 4 steps away from the previous candidate.\n",
    "    - If multiple crossing-islands are identified, then the function will compare the total span of all crossing-islands to `min_points`.  If the span is greater than `min_points`, then the function is incapable of identifying $V_f$ and will return `numpy.nan` values; otherwise, the span will form one larger crossing-island.\n",
    "1. To calculate the floating potential...\n",
    "    - If the number of points that make up the crossing-island is less than `min_points`, then each side of the \"crossing-island\" is equally padded with the nearest neighbor points until `min_points` is satisfied.\n",
    "    - If `fit_type=\"linear\"`, then a `scipy.stats.linregress` fit is applied to the points that make up the crossing-island.\n",
    "    - If `fit_type=\"exponential\"`, then a `scipy.optimize.curve_fit` fit is applied to the points that make up the crossing-island."
   ]
  },
  {
   "cell_type": "markdown",
   "metadata": {},
   "source": [
    "### Notes about usage\n",
    "\n",
    "- The function provides no signal processing, so, if needed, the user must smooth, sort, crop, etc. the arrays before passing to the function.\n",
    "- The function requires the voltage array to be monotonically increasing or decreasing.\n",
    "- If the total range spanned by all crossing-islands is less than or equal to `min_points`, then `threshold` is ignored and all crossing-islands are grouped into one island."
   ]
  },
  {
   "cell_type": "markdown",
   "metadata": {},
   "source": [
    "### Knobs to turn\n",
    "\n",
    "- `fit_type`\n",
    "\n",
    "    There are two types of curves that can be fitted to the identified crossing point data, `\"linear\"` and `\"exponential\"`.  The former will fit fit a line to the data, whereas, the later will fit and exponential curve with an offset.  The default curve is `\"exponential\"` since swept Langmuir data is not typically linear as it passes through $I=0$.\n",
    "\n",
    "- `min_points`\n",
    "\n",
    "    This specifies the minimum number of points that will be used in the curve fitting.  As mentioned above,  the crossing-islands are identified and then padded until `min_points` is satisfied.\n",
    "    \n",
    "    - `min_pints = None` (Default) then the larger of 5 and `factor * array_size` is taken, where `factor = 0.1` for `\"linear\"` and `0.2` for `\"exponential\"`.\n",
    "    - `min_points = 0` then the entire passed array is fitted.\n",
    "    - `min_points >= 1` then this is the minimum number of points used.\n",
    "    - `0 < min_points < 1` then then the minimum number of points is taken as `min_points * array_size`.\n",
    "\n",
    "\n",
    "- `threshold`\n",
    "\n",
    "    The max allowed index distance between crossing-points before a new crossing-island is formed."
   ]
  },
  {
   "cell_type": "markdown",
   "metadata": {},
   "source": [
    "## Calculate the Floating Potential\n",
    "\n",
    "Below we'll compute the floaing potential using the default fitting behavior (`fit_type=\"exponential\"`) and a linear fit (`fit_type=\"linear\"`)."
   ]
  },
  {
   "cell_type": "code",
   "execution_count": null,
   "metadata": {},
   "outputs": [],
   "source": [
    "# load data\n",
    "filename = \"Beckers2017_noisy.npy\"\n",
    "filepath = (Path.cwd() / \"..\" / \"..\" / \"langmuir_samples\" / filename).resolve()\n",
    "voltage, current = np.load(filepath)\n",
    "\n",
    "# voltage array needs to be monotonically increasing/decreasing\n",
    "isort = np.argsort(voltage)\n",
    "voltage = voltage[isort]\n",
    "current = current[isort]\n",
    "\n",
    "# get default fit results (exponential fit)\n",
    "# results = sla.find_floating_potential(voltage, current, min_points=0.3)\n",
    "results_opt = sla.find_ion_saturation_current(voltage, current, fit_type=\"linear\", upper_bound=-10)\n",
    "\n",
    "# get linear fit results\n",
    "# results_lin = sla.find_floating_potential(voltage, current, fit_type=\"linear\")\n",
    "results = sla.find_ion_saturation_current(voltage, current)\n",
    "(results,\n",
    " results.isat_func.parameters,\n",
    " results.func.parameters,\n",
    " \"-- break --\",\n",
    " results_opt,\n",
    " results_opt.isat_func.parameters,\n",
    " results_opt.func.parameters,\n",
    ")"
   ]
  },
  {
   "cell_type": "markdown",
   "metadata": {},
   "source": [
    "### Interpreting results\n",
    "\n",
    "The `find_floating_potential()` returns a six element named tuple, where...\n",
    "\n",
    "- `results[0]` = `results.vf` = the determined floating potential (in volts)\n"
   ]
  },
  {
   "cell_type": "code",
   "execution_count": null,
   "metadata": {},
   "outputs": [],
   "source": [
    "# (results[0], results.vf)"
   ]
  },
  {
   "cell_type": "markdown",
   "metadata": {},
   "source": [
    "- `results[1]` = `results.vf_err` = the associated error (in volts)"
   ]
  },
  {
   "cell_type": "code",
   "execution_count": null,
   "metadata": {},
   "outputs": [],
   "source": [
    "# (results[1], results.vf_err)"
   ]
  },
  {
   "cell_type": "markdown",
   "metadata": {},
   "source": [
    "- `results[2]` = `results.rsq` = the coeficient of determination (r-squared) value of the fit"
   ]
  },
  {
   "cell_type": "code",
   "execution_count": null,
   "metadata": {},
   "outputs": [],
   "source": [
    "# (results[2], results.rsq)"
   ]
  },
  {
   "cell_type": "markdown",
   "metadata": {},
   "source": [
    "- `results[3]` = `results.func` = the resulting fitted function\n",
    "\n",
    "    - `results.func` is a callable representation of the fitted function `I = results.func(V)`.\n",
    "    - `resulst.func` is an instance of a sub-class of `AbstractFitFunction`. ([**FitFuction** classes](../../../api_static/plasmapy.analysis.swept_langmuir.fit_functions.rst))\n",
    "    - Since `results.func` is a class instance, there are many other attribures available.  For example,\n",
    "        - `results.func.parameters` is a named tuple of the fitted parameters\n",
    "        - `results.func.parameters_err` is a named tuple of the fitted parameter errors\n",
    "        - `results.func.root_solve()` finds the roots of the fitted function. This is how $V_f$ is calculated."
   ]
  },
  {
   "cell_type": "code",
   "execution_count": null,
   "metadata": {},
   "outputs": [],
   "source": [
    "# (results[3],\n",
    "#  results.func,\n",
    "#  results.func.parameters,\n",
    "#  results.func.parameters.a,\n",
    "#  results.func.parameters_err,\n",
    "#  results.func.parameters_err.a,\n",
    "#  results.func(results.vf),\n",
    "# )"
   ]
  },
  {
   "cell_type": "markdown",
   "metadata": {},
   "source": [
    "- `results[4]` = `results.islands` = a list of slice objects representing all the indentified crossing-islands"
   ]
  },
  {
   "cell_type": "code",
   "execution_count": null,
   "metadata": {},
   "outputs": [],
   "source": [
    "# (results[4], \n",
    "#  results.islands,\n",
    "#  voltage[results.islands[0]],\n",
    "# )"
   ]
  },
  {
   "cell_type": "markdown",
   "metadata": {},
   "source": [
    "- `results[5]` = `results.indices` = a slice object representing the indices used in the fit"
   ]
  },
  {
   "cell_type": "code",
   "execution_count": null,
   "metadata": {},
   "outputs": [],
   "source": [
    "# (results[5],\n",
    "#  results.indices,\n",
    "#  voltage[results.indices],\n",
    "# )"
   ]
  },
  {
   "cell_type": "markdown",
   "metadata": {},
   "source": [
    "### Plotting results"
   ]
  },
  {
   "cell_type": "code",
   "execution_count": null,
   "metadata": {
    "nbsphinx-thumbnail": {
     "tooltip": "Floating Potential"
    }
   },
   "outputs": [],
   "source": [
    "figwidth, figheight = plt.rcParams[\"figure.figsize\"]\n",
    "figheight = 2. * figheight\n",
    "fig, axs = plt.subplots(3, 1, figsize=[figwidth, figheight])\n",
    "\n",
    "# plot original data\n",
    "axs[0].set_xlabel(\"Bias Voltage (V)\", fontsize=12)\n",
    "axs[0].set_ylabel(\"Current (A)\", fontsize=12)\n",
    "\n",
    "axs[0].plot(voltage, current, zorder=10, label=\"Sweep Data\")\n",
    "axs[0].axhline(0.0, color='r', linestyle='--', label=\"I = 0\")\n",
    "axs[0].legend(fontsize=12)\n",
    "\n",
    "# zoom on fit\n",
    "for ii, label, fit in zip([1, 2], [\"Exponential+Linear\", \"Linear\"], [results, results_opt]):\n",
    "    # calc island points\n",
    "#     isl_pts = np.array([], dtype=np.int64)\n",
    "#     for isl in fit.islands:\n",
    "#         isl_pts = np.concatenate((isl_pts, np.r_[isl]))\n",
    "    \n",
    "    # calc xrange for plot\n",
    "    xlim = [voltage[fit.indices].min(),\n",
    "            voltage[fit.indices].max()]\n",
    "    vpad = 0.25 * (xlim[1] - xlim[0])\n",
    "    xlim = [xlim[0] - 0.1 * vpad,\n",
    "            xlim[1] + vpad]\n",
    "    \n",
    "    # calc yrange for plot\n",
    "    umask = np.where(voltage >= xlim[0], True, False)\n",
    "    lmask = np.where(voltage <= xlim[1], True, False)\n",
    "    mask = np.logical_and(umask, lmask)\n",
    "    ylim = [current[mask].min(), current[mask].max()]\n",
    "    ypad = 0.15 * (ylim[1] - ylim[0])\n",
    "    factor = 7 if label == \"Linear\" else 1\n",
    "    ylim = [ylim[0] - ypad, ylim[1] + factor * ypad]\n",
    "\n",
    "    # calc data points for fit curve\n",
    "    vfit = np.linspace(xlim[0], xlim[1], 201, endpoint=True)\n",
    "    ifit, ifit_err = fit.func(vfit, reterr=True)\n",
    "    \n",
    "    # calc isat line\n",
    "    isat, isat_err = fit.isat_func(vfit, reterr=True)\n",
    "\n",
    "    axs[ii].set_xlabel(\"Bias Voltage (V)\", fontsize=12)\n",
    "    axs[ii].set_ylabel(\"Current (A)\", fontsize=12)\n",
    "    axs[ii].set_xlim(xlim)\n",
    "    axs[ii].set_ylim(ylim)\n",
    "\n",
    "    zorder = 10\n",
    "    axs[ii].plot(voltage[mask], current[mask],\n",
    "                 marker=\"o\", \n",
    "                 zorder=zorder, \n",
    "                 label=\"Sweep Data\")\n",
    "    zorder += 1\n",
    "    axs[ii].scatter(voltage[fit.indices],\n",
    "                    current[fit.indices],\n",
    "                    linewidth=2, s=6**2, \n",
    "                    facecolors=\"deepskyblue\", edgecolors=\"deepskyblue\",\n",
    "                    zorder=zorder,\n",
    "                    label=\"Points for Fit\")\n",
    "#     axs[ii].scatter(voltage[isl_pts], current[isl_pts],\n",
    "#                     linewidth=2, s=8**2, \n",
    "#                     facecolors=\"deepskyblue\", edgecolors=\"black\",\n",
    "#                     zorder=12,\n",
    "#                     label=\"Island Points\")\n",
    "    axs[ii].autoscale(False)\n",
    "    zorder += 1\n",
    "    axs[ii].plot(vfit, ifit, color=\"orange\",\n",
    "                 zorder=zorder,\n",
    "                 label=label + \" Fit\")\n",
    "    axs[ii].fill_between(vfit, ifit + ifit_err, ifit - ifit_err,\n",
    "                         color=\"orange\", alpha=0.12, zorder=0,\n",
    "                        label=\"Fit Error\")\n",
    "    axs[ii].axhline(0.0, color='r', linestyle='--')\n",
    "    zorder += 1\n",
    "    axs[ii].plot(vfit, isat, color=\"black\",\n",
    "             label=\"Isat\", zorder=zorder)\n",
    "    axs[ii].fill_between(vfit, isat + isat_err, isat - isat_err,\n",
    "                         color=\"black\", alpha=0.12, zorder=0,\n",
    "                        label=\"Isat Error\")\n",
    "#     axs[ii].fill_between([fit.vf - fit.vf_err, fit.vf + fit.vf_err], \n",
    "#                         axs[1].get_ylim()[0],\n",
    "#                         axs[1].get_ylim()[1],\n",
    "#                         color='grey', alpha=0.1)\n",
    "    axs[ii].legend(fontsize=12)\n",
    "\n",
    "    # add text\n",
    "    rsq = fit.rsq\n",
    "    txt = f\"$r^2 = {rsq:.3f}$\"\n",
    "#     txt = (f\"$V_f = {fit.vf:.2f} \\\\pm {fit.vf_err:.2f}$ V\\n\"\n",
    "#            f\"$r^2 = {rsq:.3f}$\")\n",
    "    txt_loc = [-18, axs[ii].get_ylim()[1]]\n",
    "    txt_loc = axs[ii].transAxes.inverted().transform(axs[ii].transData.transform(txt_loc))\n",
    "    txt_loc[0] -= 0.02\n",
    "    txt_loc[1] -= 0.13\n",
    "    axs[ii].text(txt_loc[0], txt_loc[1], txt, \n",
    "                 fontsize='large', transform=axs[ii].transAxes,\n",
    "                 ha=\"left\")"
   ]
  }
 ],
 "metadata": {
  "kernelspec": {
   "display_name": "Python 3",
   "language": "python",
   "name": "python3"
  },
  "language_info": {
   "codemirror_mode": {
    "name": "ipython",
    "version": 3
   },
   "file_extension": ".py",
   "mimetype": "text/x-python",
   "name": "python",
   "nbconvert_exporter": "python",
   "pygments_lexer": "ipython3",
   "version": "3.7.6"
  }
 },
 "nbformat": 4,
 "nbformat_minor": 4
}
